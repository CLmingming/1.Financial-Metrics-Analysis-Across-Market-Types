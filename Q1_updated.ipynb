{
 "cells": [
  {
   "cell_type": "code",
   "outputs": [],
   "source": [
    "import pandas as pd"
   ],
   "metadata": {
    "collapsed": false,
    "ExecuteTime": {
     "end_time": "2025-03-26T03:38:12.195109Z",
     "start_time": "2025-03-26T03:38:12.191942Z"
    }
   },
   "id": "6962142e887c6594",
   "execution_count": 13
  },
  {
   "cell_type": "markdown",
   "source": [
    "# Data Cleaning and Merging"
   ],
   "metadata": {
    "collapsed": false
   },
   "id": "c55d1576b140a830"
  },
  {
   "cell_type": "code",
   "outputs": [],
   "source": [
    "# Define the base path and file paths (adjust if necessary)\n",
    "file1 = \"Stock_Trading.csv\"\n",
    "file2 = \"Financial_Statements.csv\"\n",
    "file3 = \"Financial_Indicators.csv\""
   ],
   "metadata": {
    "collapsed": false
   },
   "id": "d482d0c0af515daf"
  },
  {
   "cell_type": "code",
   "outputs": [
    {
     "data": {
      "text/plain": "   Stock Code Trading Month  Monthly Closing Price  \\\n0           1    2000-01-01                  18.53   \n1           1    2000-02-01                  18.32   \n2           1    2000-03-01                  18.37   \n3           1    2000-04-01                  19.05   \n4           1    2000-05-01                  18.00   \n\n   Market Value of Tradable Shares  \\\n0                      19843822.88   \n1                      19618933.36   \n2                      19672478.48   \n3                      20400692.17   \n4                      19276244.57   \n\n   Monthly Return Without Cash Dividend Reinvested Statistics Date  \\\n0                                         0.061891      12/31/1999   \n1                                        -0.011333      12/31/1999   \n2                                         0.002729      12/31/1999   \n3                                         0.037017       3/31/2000   \n4                                        -0.055118       3/31/2000   \n\n  Ending Date of Statistics Statement Type  Total Assets  Total Liabilities  \\\n0                       NaN            NaN           NaN                NaN   \n1                       NaN            NaN           NaN                NaN   \n2                       NaN            NaN           NaN                NaN   \n3                       NaN            NaN           NaN                NaN   \n4                       NaN            NaN           NaN                NaN   \n\n  Stock Short Name   R&D Expenses   Return on Total Assets - A  \\\n0              NaN            NaN                          NaN   \n1              NaN            NaN                          NaN   \n2              NaN            NaN                          NaN   \n3              NaN            NaN                          NaN   \n4              NaN            NaN                          NaN   \n\n   Return on Equity - A  EPS  Net Assets per Share  \n0                   NaN  NaN                   NaN  \n1                   NaN  NaN                   NaN  \n2                   NaN  NaN                   NaN  \n3                   NaN  NaN                   NaN  \n4                   NaN  NaN                   NaN  ",
      "text/html": "<div>\n<style scoped>\n    .dataframe tbody tr th:only-of-type {\n        vertical-align: middle;\n    }\n\n    .dataframe tbody tr th {\n        vertical-align: top;\n    }\n\n    .dataframe thead th {\n        text-align: right;\n    }\n</style>\n<table border=\"1\" class=\"dataframe\">\n  <thead>\n    <tr style=\"text-align: right;\">\n      <th></th>\n      <th>Stock Code</th>\n      <th>Trading Month</th>\n      <th>Monthly Closing Price</th>\n      <th>Market Value of Tradable Shares</th>\n      <th>Monthly Return Without Cash Dividend Reinvested</th>\n      <th>Statistics Date</th>\n      <th>Ending Date of Statistics</th>\n      <th>Statement Type</th>\n      <th>Total Assets</th>\n      <th>Total Liabilities</th>\n      <th>Stock Short Name</th>\n      <th>R&amp;D Expenses</th>\n      <th>Return on Total Assets - A</th>\n      <th>Return on Equity - A</th>\n      <th>EPS</th>\n      <th>Net Assets per Share</th>\n    </tr>\n  </thead>\n  <tbody>\n    <tr>\n      <th>0</th>\n      <td>1</td>\n      <td>2000-01-01</td>\n      <td>18.53</td>\n      <td>19843822.88</td>\n      <td>0.061891</td>\n      <td>12/31/1999</td>\n      <td>NaN</td>\n      <td>NaN</td>\n      <td>NaN</td>\n      <td>NaN</td>\n      <td>NaN</td>\n      <td>NaN</td>\n      <td>NaN</td>\n      <td>NaN</td>\n      <td>NaN</td>\n      <td>NaN</td>\n    </tr>\n    <tr>\n      <th>1</th>\n      <td>1</td>\n      <td>2000-02-01</td>\n      <td>18.32</td>\n      <td>19618933.36</td>\n      <td>-0.011333</td>\n      <td>12/31/1999</td>\n      <td>NaN</td>\n      <td>NaN</td>\n      <td>NaN</td>\n      <td>NaN</td>\n      <td>NaN</td>\n      <td>NaN</td>\n      <td>NaN</td>\n      <td>NaN</td>\n      <td>NaN</td>\n      <td>NaN</td>\n    </tr>\n    <tr>\n      <th>2</th>\n      <td>1</td>\n      <td>2000-03-01</td>\n      <td>18.37</td>\n      <td>19672478.48</td>\n      <td>0.002729</td>\n      <td>12/31/1999</td>\n      <td>NaN</td>\n      <td>NaN</td>\n      <td>NaN</td>\n      <td>NaN</td>\n      <td>NaN</td>\n      <td>NaN</td>\n      <td>NaN</td>\n      <td>NaN</td>\n      <td>NaN</td>\n      <td>NaN</td>\n    </tr>\n    <tr>\n      <th>3</th>\n      <td>1</td>\n      <td>2000-04-01</td>\n      <td>19.05</td>\n      <td>20400692.17</td>\n      <td>0.037017</td>\n      <td>3/31/2000</td>\n      <td>NaN</td>\n      <td>NaN</td>\n      <td>NaN</td>\n      <td>NaN</td>\n      <td>NaN</td>\n      <td>NaN</td>\n      <td>NaN</td>\n      <td>NaN</td>\n      <td>NaN</td>\n      <td>NaN</td>\n    </tr>\n    <tr>\n      <th>4</th>\n      <td>1</td>\n      <td>2000-05-01</td>\n      <td>18.00</td>\n      <td>19276244.57</td>\n      <td>-0.055118</td>\n      <td>3/31/2000</td>\n      <td>NaN</td>\n      <td>NaN</td>\n      <td>NaN</td>\n      <td>NaN</td>\n      <td>NaN</td>\n      <td>NaN</td>\n      <td>NaN</td>\n      <td>NaN</td>\n      <td>NaN</td>\n      <td>NaN</td>\n    </tr>\n  </tbody>\n</table>\n</div>"
     },
     "execution_count": 19,
     "metadata": {},
     "output_type": "execute_result"
    }
   ],
   "source": [
    "# Read and clean data from 1.csv\n",
    "data_1 = pd.read_csv(file1)\n",
    "data_1['Trading Month'] = pd.to_datetime(data_1['Trading Month'])\n",
    "data_1.head()"
   ],
   "metadata": {
    "collapsed": false,
    "ExecuteTime": {
     "end_time": "2025-03-26T03:46:28.088588Z",
     "start_time": "2025-03-26T03:46:27.234438Z"
    }
   },
   "id": "b55fff0026fe1d2d",
   "execution_count": 19
  },
  {
   "cell_type": "code",
   "outputs": [
    {
     "data": {
      "text/plain": "   Stock Code Ending Date of Statistics Statement Type  Total Assets  \\\n0           1                2000-06-30              A  4.973234e+10   \n1           1                2000-12-31              A  6.722750e+10   \n2           1                2001-06-30              A  8.518143e+10   \n3           1                2001-12-31              A  1.201270e+11   \n4           1                2002-03-31              A  1.106890e+11   \n\n   Total Liabilities Stock Short Name   R&D Expenses  \\\n0       4.665382e+10             SFZA            NaN   \n1       6.248862e+10             SFZA            NaN   \n2       8.021960e+10             SFZA            NaN   \n3       1.164990e+11             SFZA            NaN   \n4       1.068770e+11             SFZA            NaN   \n\n   Return on Total Assets - A  Return on Equity - A  \\\n0                    0.004036              0.057805   \n1                    0.008133              0.106893   \n2                    0.003104              0.044986   \n3                    0.004653              0.110914   \n4                    0.002039              0.048257   \n\n    Earnings per Share - TTM1  Net Assets per Share  \n0                    0.317187              1.983773  \n1                    0.260328              2.435415  \n2                    0.283587              2.549989  \n3                    0.206782              1.864337  \n4                         NaN              1.959026  ",
      "text/html": "<div>\n<style scoped>\n    .dataframe tbody tr th:only-of-type {\n        vertical-align: middle;\n    }\n\n    .dataframe tbody tr th {\n        vertical-align: top;\n    }\n\n    .dataframe thead th {\n        text-align: right;\n    }\n</style>\n<table border=\"1\" class=\"dataframe\">\n  <thead>\n    <tr style=\"text-align: right;\">\n      <th></th>\n      <th>Stock Code</th>\n      <th>Ending Date of Statistics</th>\n      <th>Statement Type</th>\n      <th>Total Assets</th>\n      <th>Total Liabilities</th>\n      <th>Stock Short Name</th>\n      <th>R&amp;D Expenses</th>\n      <th>Return on Total Assets - A</th>\n      <th>Return on Equity - A</th>\n      <th>Earnings per Share - TTM1</th>\n      <th>Net Assets per Share</th>\n    </tr>\n  </thead>\n  <tbody>\n    <tr>\n      <th>0</th>\n      <td>1</td>\n      <td>2000-06-30</td>\n      <td>A</td>\n      <td>4.973234e+10</td>\n      <td>4.665382e+10</td>\n      <td>SFZA</td>\n      <td>NaN</td>\n      <td>0.004036</td>\n      <td>0.057805</td>\n      <td>0.317187</td>\n      <td>1.983773</td>\n    </tr>\n    <tr>\n      <th>1</th>\n      <td>1</td>\n      <td>2000-12-31</td>\n      <td>A</td>\n      <td>6.722750e+10</td>\n      <td>6.248862e+10</td>\n      <td>SFZA</td>\n      <td>NaN</td>\n      <td>0.008133</td>\n      <td>0.106893</td>\n      <td>0.260328</td>\n      <td>2.435415</td>\n    </tr>\n    <tr>\n      <th>2</th>\n      <td>1</td>\n      <td>2001-06-30</td>\n      <td>A</td>\n      <td>8.518143e+10</td>\n      <td>8.021960e+10</td>\n      <td>SFZA</td>\n      <td>NaN</td>\n      <td>0.003104</td>\n      <td>0.044986</td>\n      <td>0.283587</td>\n      <td>2.549989</td>\n    </tr>\n    <tr>\n      <th>3</th>\n      <td>1</td>\n      <td>2001-12-31</td>\n      <td>A</td>\n      <td>1.201270e+11</td>\n      <td>1.164990e+11</td>\n      <td>SFZA</td>\n      <td>NaN</td>\n      <td>0.004653</td>\n      <td>0.110914</td>\n      <td>0.206782</td>\n      <td>1.864337</td>\n    </tr>\n    <tr>\n      <th>4</th>\n      <td>1</td>\n      <td>2002-03-31</td>\n      <td>A</td>\n      <td>1.106890e+11</td>\n      <td>1.068770e+11</td>\n      <td>SFZA</td>\n      <td>NaN</td>\n      <td>0.002039</td>\n      <td>0.048257</td>\n      <td>NaN</td>\n      <td>1.959026</td>\n    </tr>\n  </tbody>\n</table>\n</div>"
     },
     "execution_count": 15,
     "metadata": {},
     "output_type": "execute_result"
    }
   ],
   "source": [
    "# Read and clean data from 2.csv\n",
    "data_2 = pd.read_csv(file2)\n",
    "data_2 = data_2[data_2['Statement Type'] != 'B']\n",
    "data_2['Ending Date of Statistics'] = pd.to_datetime(data_2['Ending Date of Statistics'])\n",
    "data_2.sort_values(by=['Stock Code', 'Ending Date of Statistics'], inplace=True)\n",
    "data_2 = data_2[data_2['Ending Date of Statistics'].dt.month != 1]\n",
    "data_2.head()"
   ],
   "metadata": {
    "collapsed": false,
    "ExecuteTime": {
     "end_time": "2025-03-26T03:38:13.347418Z",
     "start_time": "2025-03-26T03:38:13.075154Z"
    }
   },
   "id": "cf6f1f5f11506e77",
   "execution_count": 15
  },
  {
   "cell_type": "code",
   "outputs": [
    {
     "data": {
      "text/plain": "   Stock Code Trading Month  Monthly Closing Price  \\\n0           1    2000-01-01                  18.53   \n1           1    2000-02-01                  18.32   \n2           1    2000-03-01                  18.37   \n3           1    2000-04-01                  19.05   \n4           1    2000-05-01                  18.00   \n\n   Market Value of Tradable Shares  \\\n0                      19843822.88   \n1                      19618933.36   \n2                      19672478.48   \n3                      20400692.17   \n4                      19276244.57   \n\n   Monthly Return Without Cash Dividend Reinvested Statistics Date  \\\n0                                         0.061891      1999-12-31   \n1                                        -0.011333      1999-12-31   \n2                                         0.002729      1999-12-31   \n3                                         0.037017      2000-03-31   \n4                                        -0.055118      2000-03-31   \n\n  Ending Date of Statistics_x Statement Type_x  Total Assets_x  \\\n0                         NaN              NaN             NaN   \n1                         NaN              NaN             NaN   \n2                         NaN              NaN             NaN   \n3                         NaN              NaN             NaN   \n4                         NaN              NaN             NaN   \n\n   Total Liabilities_x  ... Ending Date of Statistics_y  Statement Type_y  \\\n0                  NaN  ...                         NaT               NaN   \n1                  NaN  ...                         NaT               NaN   \n2                  NaN  ...                         NaT               NaN   \n3                  NaN  ...                         NaT               NaN   \n4                  NaN  ...                         NaT               NaN   \n\n   Total Assets_y  Total Liabilities_y  Stock Short Name_y   R&D Expenses_y  \\\n0             NaN                  NaN                 NaN              NaN   \n1             NaN                  NaN                 NaN              NaN   \n2             NaN                  NaN                 NaN              NaN   \n3             NaN                  NaN                 NaN              NaN   \n4             NaN                  NaN                 NaN              NaN   \n\n  Return on Total Assets - A Return on Equity - A_y  \\\n0                        NaN                    NaN   \n1                        NaN                    NaN   \n2                        NaN                    NaN   \n3                        NaN                    NaN   \n4                        NaN                    NaN   \n\n    Earnings per Share - TTM1  Net Assets per Share_y  \n0                         NaN                     NaN  \n1                         NaN                     NaN  \n2                         NaN                     NaN  \n3                         NaN                     NaN  \n4                         NaN                     NaN  \n\n[5 rows x 26 columns]",
      "text/html": "<div>\n<style scoped>\n    .dataframe tbody tr th:only-of-type {\n        vertical-align: middle;\n    }\n\n    .dataframe tbody tr th {\n        vertical-align: top;\n    }\n\n    .dataframe thead th {\n        text-align: right;\n    }\n</style>\n<table border=\"1\" class=\"dataframe\">\n  <thead>\n    <tr style=\"text-align: right;\">\n      <th></th>\n      <th>Stock Code</th>\n      <th>Trading Month</th>\n      <th>Monthly Closing Price</th>\n      <th>Market Value of Tradable Shares</th>\n      <th>Monthly Return Without Cash Dividend Reinvested</th>\n      <th>Statistics Date</th>\n      <th>Ending Date of Statistics_x</th>\n      <th>Statement Type_x</th>\n      <th>Total Assets_x</th>\n      <th>Total Liabilities_x</th>\n      <th>...</th>\n      <th>Ending Date of Statistics_y</th>\n      <th>Statement Type_y</th>\n      <th>Total Assets_y</th>\n      <th>Total Liabilities_y</th>\n      <th>Stock Short Name_y</th>\n      <th>R&amp;D Expenses_y</th>\n      <th>Return on Total Assets - A</th>\n      <th>Return on Equity - A_y</th>\n      <th>Earnings per Share - TTM1</th>\n      <th>Net Assets per Share_y</th>\n    </tr>\n  </thead>\n  <tbody>\n    <tr>\n      <th>0</th>\n      <td>1</td>\n      <td>2000-01-01</td>\n      <td>18.53</td>\n      <td>19843822.88</td>\n      <td>0.061891</td>\n      <td>1999-12-31</td>\n      <td>NaN</td>\n      <td>NaN</td>\n      <td>NaN</td>\n      <td>NaN</td>\n      <td>...</td>\n      <td>NaT</td>\n      <td>NaN</td>\n      <td>NaN</td>\n      <td>NaN</td>\n      <td>NaN</td>\n      <td>NaN</td>\n      <td>NaN</td>\n      <td>NaN</td>\n      <td>NaN</td>\n      <td>NaN</td>\n    </tr>\n    <tr>\n      <th>1</th>\n      <td>1</td>\n      <td>2000-02-01</td>\n      <td>18.32</td>\n      <td>19618933.36</td>\n      <td>-0.011333</td>\n      <td>1999-12-31</td>\n      <td>NaN</td>\n      <td>NaN</td>\n      <td>NaN</td>\n      <td>NaN</td>\n      <td>...</td>\n      <td>NaT</td>\n      <td>NaN</td>\n      <td>NaN</td>\n      <td>NaN</td>\n      <td>NaN</td>\n      <td>NaN</td>\n      <td>NaN</td>\n      <td>NaN</td>\n      <td>NaN</td>\n      <td>NaN</td>\n    </tr>\n    <tr>\n      <th>2</th>\n      <td>1</td>\n      <td>2000-03-01</td>\n      <td>18.37</td>\n      <td>19672478.48</td>\n      <td>0.002729</td>\n      <td>1999-12-31</td>\n      <td>NaN</td>\n      <td>NaN</td>\n      <td>NaN</td>\n      <td>NaN</td>\n      <td>...</td>\n      <td>NaT</td>\n      <td>NaN</td>\n      <td>NaN</td>\n      <td>NaN</td>\n      <td>NaN</td>\n      <td>NaN</td>\n      <td>NaN</td>\n      <td>NaN</td>\n      <td>NaN</td>\n      <td>NaN</td>\n    </tr>\n    <tr>\n      <th>3</th>\n      <td>1</td>\n      <td>2000-04-01</td>\n      <td>19.05</td>\n      <td>20400692.17</td>\n      <td>0.037017</td>\n      <td>2000-03-31</td>\n      <td>NaN</td>\n      <td>NaN</td>\n      <td>NaN</td>\n      <td>NaN</td>\n      <td>...</td>\n      <td>NaT</td>\n      <td>NaN</td>\n      <td>NaN</td>\n      <td>NaN</td>\n      <td>NaN</td>\n      <td>NaN</td>\n      <td>NaN</td>\n      <td>NaN</td>\n      <td>NaN</td>\n      <td>NaN</td>\n    </tr>\n    <tr>\n      <th>4</th>\n      <td>1</td>\n      <td>2000-05-01</td>\n      <td>18.00</td>\n      <td>19276244.57</td>\n      <td>-0.055118</td>\n      <td>2000-03-31</td>\n      <td>NaN</td>\n      <td>NaN</td>\n      <td>NaN</td>\n      <td>NaN</td>\n      <td>...</td>\n      <td>NaT</td>\n      <td>NaN</td>\n      <td>NaN</td>\n      <td>NaN</td>\n      <td>NaN</td>\n      <td>NaN</td>\n      <td>NaN</td>\n      <td>NaN</td>\n      <td>NaN</td>\n      <td>NaN</td>\n    </tr>\n  </tbody>\n</table>\n<p>5 rows × 26 columns</p>\n</div>"
     },
     "execution_count": 16,
     "metadata": {},
     "output_type": "execute_result"
    }
   ],
   "source": [
    "# Create the \"Statistics Date\" column in data_1 based on \"Trading Month\"\n",
    "def get_statistics_date(trdmnt):\n",
    "    if trdmnt.month in [1, 2, 3]:\n",
    "        return pd.to_datetime(f\"{trdmnt.year - 1}-12-31\")\n",
    "    elif trdmnt.month in [4, 5, 6]:\n",
    "        return pd.to_datetime(f\"{trdmnt.year}-03-31\")\n",
    "    elif trdmnt.month in [7, 8, 9]:\n",
    "        return pd.to_datetime(f\"{trdmnt.year}-06-30\")\n",
    "    elif trdmnt.month in [10, 11, 12]:\n",
    "        return pd.to_datetime(f\"{trdmnt.year}-09-30\")\n",
    "    else:\n",
    "        return pd.NaT\n",
    "data_1['Statistics Date'] = data_1['Trading Month'].apply(get_statistics_date)\n",
    "\n",
    "# Merge data_1 and data_2 based on \"Stock Code\" and corresponding date columns\n",
    "merged_data = pd.merge(\n",
    "    data_1,\n",
    "    data_2,\n",
    "    left_on=['Stock Code', 'Statistics Date'],\n",
    "    right_on=['Stock Code', 'Ending Date of Statistics'],\n",
    "    how='left'\n",
    ")\n",
    "\n",
    "merged_data.head()"
   ],
   "metadata": {
    "collapsed": false,
    "ExecuteTime": {
     "end_time": "2025-03-26T03:41:56.072038Z",
     "start_time": "2025-03-26T03:38:13.348438Z"
    }
   },
   "id": "d2d89f6f5a852b73",
   "execution_count": 16
  },
  {
   "cell_type": "markdown",
   "source": [
    "# Indicator Calculations"
   ],
   "metadata": {
    "collapsed": false
   },
   "id": "643f2f5fd7b774ac"
  },
  {
   "cell_type": "code",
   "outputs": [
    {
     "name": "stdout",
     "output_type": "stream",
     "text": [
      "\n",
      "Module 2: Indicator Calculations Completed.\n",
      "Sample of merged data with P/E and P/B ratios:\n",
      "   Stock Code Trading Month  P/E ratios  P/B ratios\n",
      "0           1    2000-01-01         NaN         NaN\n",
      "1           1    2000-02-01         NaN         NaN\n",
      "2           1    2000-03-01         NaN         NaN\n",
      "3           1    2000-04-01         NaN         NaN\n",
      "4           1    2000-05-01         NaN         NaN\n",
      "\n",
      "Sample of R&D expense/total asset ratios from data_2:\n",
      "   Stock Code Ending Date of Statistics  R&D expense/total asset ratios\n",
      "0           1                2000-06-30                             NaN\n",
      "1           1                2000-12-31                             NaN\n",
      "2           1                2001-06-30                             NaN\n",
      "3           1                2001-12-31                             NaN\n",
      "4           1                2002-03-31                             NaN\n",
      "\n",
      "Sample of firm age calculations:\n",
      "   Stock Code Ending Date of Statistics Estbdt  firm ages  Markettype\n",
      "0           1                2000-06-30    NaT        NaN         NaN\n",
      "1           1                2000-12-31    NaT        NaN         NaN\n",
      "2           1                2001-06-30    NaT        NaN         NaN\n",
      "3           1                2001-12-31    NaT        NaN         NaN\n",
      "4           1                2002-03-31    NaT        NaN         NaN\n"
     ]
    }
   ],
   "source": [
    "# Calculate P/E ratios and P/B ratios for the merged data\n",
    "merged_data['P/E ratios'] = merged_data['Monthly Closing Price'] / merged_data[' Earnings per Share - TTM1']\n",
    "merged_data['P/B ratios'] = merged_data['Monthly Closing Price'] / merged_data['Net Assets per Share_x']\n",
    "\n",
    "# Calculate the R&D expense/total asset ratio in data_2\n",
    "data_2[\"R&D expense/total asset ratios\"] = data_2[' R&D Expenses'] / data_2['Total Assets']\n",
    "\n",
    "# Read 3.csv to get firm establishment information\n",
    "data_3 = pd.read_csv(file3)\n",
    "data_3['Estbdt'] = pd.to_datetime(data_3['Estbdt'])\n",
    "data_3_subset = data_3[['Stkcd', 'Estbdt', 'Markettype']]\n",
    "\n",
    "# Merge data_2 with firm information from data_3 to compute firm ages\n",
    "merged_firms = pd.merge(\n",
    "    data_2,\n",
    "    data_3_subset,\n",
    "    left_on='Stock Code',\n",
    "    right_on='Stkcd',\n",
    "    how='left'\n",
    ")\n",
    "\n",
    "# Calculate firm ages in years (using the difference in days divided by 365)\n",
    "merged_firms['firm ages'] = (merged_firms['Ending Date of Statistics'] - merged_firms['Estbdt']).dt.days / 365\n",
    "\n",
    "# Display sample results from indicator calculations\n",
    "print(\"\\nModule 2: Indicator Calculations Completed.\")\n",
    "print(\"Sample of merged data with P/E and P/B ratios:\")\n",
    "print(merged_data[['Stock Code', 'Trading Month', 'P/E ratios', 'P/B ratios']].head())\n",
    "\n",
    "print(\"\\nSample of R&D expense/total asset ratios from data_2:\")\n",
    "print(data_2[['Stock Code', 'Ending Date of Statistics', \"R&D expense/total asset ratios\"]].head())\n",
    "\n",
    "print(\"\\nSample of firm age calculations:\")\n",
    "print(merged_firms[['Stock Code', 'Ending Date of Statistics', 'Estbdt', 'firm ages', 'Markettype']].head())"
   ],
   "metadata": {
    "collapsed": false,
    "ExecuteTime": {
     "end_time": "2025-03-26T03:46:53.694343Z",
     "start_time": "2025-03-26T03:46:53.618302Z"
    }
   },
   "id": "5e1b6df5e19ed5c6",
   "execution_count": 20
  },
  {
   "cell_type": "markdown",
   "source": [
    "# Descriptive Statistics"
   ],
   "metadata": {
    "collapsed": false
   },
   "id": "acd93c9b523ecd9b"
  },
  {
   "cell_type": "code",
   "outputs": [
    {
     "name": "stdout",
     "output_type": "stream",
     "text": [
      "\n",
      "Module 3: Descriptive Statistics Output:\n",
      "\n",
      "Descriptive Statistics - Monthly Return Without Cash Dividend Reinvested:\n",
      "count    704259.000000\n",
      "mean          0.012504\n",
      "std           0.162180\n",
      "min          -0.891827\n",
      "25%          -0.070212\n",
      "50%          -0.000984\n",
      "75%           0.075704\n",
      "max          22.052632\n",
      "Name: Monthly Return Without Cash Dividend Reinvested, dtype: float64\n",
      "\n",
      "Descriptive Statistics - P/E ratios:\n",
      "count    6.552340e+05\n",
      "mean     4.988843e+01\n",
      "std      7.105625e+03\n",
      "min     -1.288000e+06\n",
      "25%      1.228714e+01\n",
      "50%      2.897851e+01\n",
      "75%      5.791295e+01\n",
      "max      2.087500e+06\n",
      "Name: P/E ratios, dtype: float64\n",
      "\n",
      "Descriptive Statistics - P/B ratios:\n",
      "count    6.853910e+05\n",
      "mean              inf\n",
      "std               NaN\n",
      "min     -2.825000e+05\n",
      "25%      1.623387e+00\n",
      "50%      2.631866e+00\n",
      "75%      4.314296e+00\n",
      "max               inf\n",
      "Name: P/B ratios, dtype: float64\n",
      "\n",
      "Descriptive Statistics - Return on Total Assets - A:\n",
      "count    242890.000000\n",
      "mean          0.131537\n",
      "std          51.396547\n",
      "min       -2095.053398\n",
      "25%           0.009191\n",
      "50%           0.025956\n",
      "75%           0.052706\n",
      "max       25222.734510\n",
      "Name: Return on Total Assets - A, dtype: float64\n",
      "\n",
      "Descriptive Statistics - Return on Equity - A:\n",
      "count    239461.000000\n",
      "mean          0.034117\n",
      "std           3.443750\n",
      "min        -274.048091\n",
      "25%           0.009824\n",
      "50%           0.034069\n",
      "75%           0.072915\n",
      "max         713.203598\n",
      "Name: Return on Equity - A, dtype: float64\n",
      "\n",
      "Descriptive Statistics - R&D expense/total asset ratios:\n",
      "count    85014.000000\n",
      "mean         0.015584\n",
      "std          0.021248\n",
      "min         -0.002272\n",
      "25%          0.003905\n",
      "50%          0.010303\n",
      "75%          0.020819\n",
      "max          2.695974\n",
      "Name: R&D expense/total asset ratios, dtype: float64\n",
      "\n",
      "Descriptive Statistics - Main Board Firms (firm ages):\n",
      "count    114890.000000\n",
      "mean         16.401313\n",
      "std           6.710663\n",
      "min           0.082192\n",
      "25%          11.597260\n",
      "50%          16.295890\n",
      "75%          20.906849\n",
      "max          65.789041\n",
      "Name: firm ages, dtype: float64\n",
      "\n",
      "Descriptive Statistics - GEM Firms (firm ages):\n",
      "count    40574.000000\n",
      "mean        16.669585\n",
      "std          5.474691\n",
      "min          1.208219\n",
      "25%         12.775342\n",
      "50%         16.453425\n",
      "75%         20.161644\n",
      "max         42.569863\n",
      "Name: firm ages, dtype: float64\n"
     ]
    }
   ],
   "source": [
    "print(\"\\nModule 3: Descriptive Statistics Output:\")\n",
    "\n",
    "# Monthly return descriptive statistics\n",
    "print(\"\\nDescriptive Statistics - Monthly Return Without Cash Dividend Reinvested:\")\n",
    "print(merged_data['Monthly Return Without Cash Dividend Reinvested'].describe())\n",
    "\n",
    "# P/E ratios descriptive statistics\n",
    "print(\"\\nDescriptive Statistics - P/E ratios:\")\n",
    "print(merged_data['P/E ratios'].describe())\n",
    "\n",
    "# P/B ratios descriptive statistics\n",
    "print(\"\\nDescriptive Statistics - P/B ratios:\")\n",
    "print(merged_data['P/B ratios'].describe())\n",
    "\n",
    "# Profitability measures descriptive statistics from data_2\n",
    "print(\"\\nDescriptive Statistics - Return on Total Assets - A:\")\n",
    "print(data_2['Return on Total Assets - A'].describe())\n",
    "\n",
    "print(\"\\nDescriptive Statistics - Return on Equity - A:\")\n",
    "print(data_2['Return on Equity - A'].describe())\n",
    "\n",
    "# R&D expense ratio descriptive statistics\n",
    "print(\"\\nDescriptive Statistics - R&D expense/total asset ratios:\")\n",
    "print(data_2[\"R&D expense/total asset ratios\"].describe())\n",
    "\n",
    "# Descriptive statistics for firm ages grouped by market type.\n",
    "# Main Board Firms (Markettype: 1, 4, 64)\n",
    "main_board = merged_firms[merged_firms['Markettype'].isin([1, 4, 64])]\n",
    "# GEM Firms (Markettype: 16, 32)\n",
    "gem_board = merged_firms[merged_firms['Markettype'].isin([16, 32])]\n",
    "\n",
    "print(\"\\nDescriptive Statistics - Main Board Firms (firm ages):\")\n",
    "print(main_board['firm ages'].describe())\n",
    "\n",
    "print(\"\\nDescriptive Statistics - GEM Firms (firm ages):\")\n",
    "print(gem_board['firm ages'].describe())"
   ],
   "metadata": {
    "collapsed": false,
    "ExecuteTime": {
     "end_time": "2025-03-26T03:46:59.092277Z",
     "start_time": "2025-03-26T03:46:58.933897Z"
    }
   },
   "id": "ab0ddf8c94939b0f",
   "execution_count": 21
  },
  {
   "cell_type": "code",
   "outputs": [],
   "source": [],
   "metadata": {
    "collapsed": false
   },
   "id": "52426cf7e25be2ff"
  }
 ],
 "metadata": {
  "kernelspec": {
   "display_name": "Python 3",
   "language": "python",
   "name": "python3"
  },
  "language_info": {
   "codemirror_mode": {
    "name": "ipython",
    "version": 2
   },
   "file_extension": ".py",
   "mimetype": "text/x-python",
   "name": "python",
   "nbconvert_exporter": "python",
   "pygments_lexer": "ipython2",
   "version": "2.7.6"
  }
 },
 "nbformat": 4,
 "nbformat_minor": 5
}
